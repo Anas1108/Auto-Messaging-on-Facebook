{
 "cells": [
  {
   "cell_type": "code",
   "execution_count": 11,
   "metadata": {},
   "outputs": [],
   "source": [
    "from selenium import webdriver\n",
    "import time\n",
    "import csv"
   ]
  },
  {
   "cell_type": "code",
   "execution_count": 71,
   "metadata": {},
   "outputs": [],
   "source": [
    "driver = webdriver.Chrome()"
   ]
  },
  {
   "cell_type": "code",
   "execution_count": 72,
   "metadata": {},
   "outputs": [],
   "source": [
    "driver.get('https://web.facebook.com/index.php?next=https%3A%2F%2Fweb.facebook.com%2Fmobileprotection%3Fsource%3Dmobile_mirror_nux')\n",
    "x=driver.find_element_by_xpath('//*[@id=\"email\"]')\n",
    "# write your email below like xyz@gmail.com\n",
    "x.send_keys('xyz@gmail.com')"
   ]
  },
  {
   "cell_type": "code",
   "execution_count": 73,
   "metadata": {},
   "outputs": [],
   "source": [
    "y=driver.find_element_by_xpath('//*[@id=\"pass\"]')\n",
    "# write your password below like 123\n",
    "y.send_keys('123')"
   ]
  },
  {
   "cell_type": "code",
   "execution_count": 74,
   "metadata": {},
   "outputs": [],
   "source": [
    "y=driver.find_element_by_class_name('_6ltg')\n",
    "y.click()"
   ]
  },
  {
   "cell_type": "code",
   "execution_count": 75,
   "metadata": {},
   "outputs": [],
   "source": [
    "x=driver.find_element_by_class_name('_1frb')\n",
    "# Type a name whoom you want to send a message like abc\n",
    "x.send_keys('abc')"
   ]
  },
  {
   "cell_type": "code",
   "execution_count": 76,
   "metadata": {},
   "outputs": [],
   "source": [
    "x=driver.find_element_by_class_name('_585_')\n",
    "x.click()"
   ]
  },
  {
   "cell_type": "code",
   "execution_count": 80,
   "metadata": {},
   "outputs": [],
   "source": [
    "x=driver.find_element_by_xpath('//*[@id=\"mount_0_0_NR\"]/div/div[1]/div/div[3]/div/div/div[1]/div[1]/div[2]/div/div/div/div/div/div/div[1]/div/div/div/div/div/div[1]/div/div/div/div/div[3]/span/div/i')\n",
    "x.click()"
   ]
  },
  {
   "cell_type": "code",
   "execution_count": 91,
   "metadata": {},
   "outputs": [
    {
     "name": "stdout",
     "output_type": "stream",
     "text": [
      "[['My name is anas'], ['my name is abdullah'], ['i am billa'], ['hi'], ['hello'], ['miss'], ['u'], ['common '], ['sense'], ['h'], ['mera'], ['sath'], ['badtameezi'], ['ni'], ['kro'], ['jo'], ['krna'], ['kro']]\n"
     ]
    }
   ],
   "source": [
    "import csv\n",
    "\n",
    "with open('messages.csv', newline='') as f:\n",
    "    reader = csv.reader(f)\n",
    "    data = list(reader)\n",
    "print(data)"
   ]
  },
  {
   "cell_type": "code",
   "execution_count": 92,
   "metadata": {},
   "outputs": [
    {
     "name": "stdout",
     "output_type": "stream",
     "text": [
      "['My name is anas', 'my name is abdullah', 'i am billa', 'hi', 'hello', 'miss', 'u', 'common ', 'sense', 'h', 'mera', 'sath', 'badtameezi', 'ni', 'kro', 'jo', 'krna', 'kro']\n"
     ]
    }
   ],
   "source": [
    "mylist=[]\n",
    "for i in range(len(data)):\n",
    "    mylist.append(data[i][0])\n",
    "print(mylist)"
   ]
  },
  {
   "cell_type": "code",
   "execution_count": 97,
   "metadata": {},
   "outputs": [
    {
     "name": "stdout",
     "output_type": "stream",
     "text": [
      "My name is anas\n",
      "my name is abdullah\n",
      "i am billa\n",
      "hi\n",
      "hello\n",
      "miss\n",
      "u\n",
      "common \n",
      "sense\n",
      "h\n",
      "mera\n",
      "sath\n",
      "badtameezi\n",
      "ni\n",
      "kro\n",
      "jo\n",
      "krna\n",
      "kro\n"
     ]
    }
   ],
   "source": [
    "for i in range(len(mylist)):\n",
    "#     time.sleep(10)\n",
    "    print(mylist[i])\n",
    "    x=driver.find_element_by_xpath('//*[@id=\"mount_0_0_NR\"]/div/div[1]/div/div[5]/div/div[1]/div[1]/div[1]/div/div/div/div/div/div/div[2]/div/div[2]/form/div/div[3]/div[2]/div[1]/div/div/div/div/div[2]/div/div/div/div')\n",
    "    x.send_keys(mylist[i])\n",
    "    time.sleep(5)\n",
    "    x.send_keys(Keys.ENTER)\n",
    "    \n",
    "    \n",
    "    \n",
    "#     x=driver.find_element_by_xpath('//*[@id=\"mount_0_0_NR\"]/div/div[1]/div/div[5]/div/div[1]/div[1]/div[1]/div/div/div/div/div/div/div[2]/div/div[2]/form/div/div[3]/span[2]/div')\n",
    "#     x.click()"
   ]
  }
 ],
 "metadata": {
  "kernelspec": {
   "display_name": "Python 3",
   "language": "python",
   "name": "python3"
  },
  "language_info": {
   "codemirror_mode": {
    "name": "ipython",
    "version": 3
   },
   "file_extension": ".py",
   "mimetype": "text/x-python",
   "name": "python",
   "nbconvert_exporter": "python",
   "pygments_lexer": "ipython3",
   "version": "3.8.8"
  }
 },
 "nbformat": 4,
 "nbformat_minor": 4
}
